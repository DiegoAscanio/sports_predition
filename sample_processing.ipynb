{
 "cells": [
  {
   "cell_type": "code",
   "execution_count": 6,
   "metadata": {
    "slideshow": {
     "slide_type": "slide"
    }
   },
   "outputs": [],
   "source": [
    "import keras as keras\n",
    "import tensorflow as tf\n",
    "import matplotlib\n",
    "# from matplotlib import style\n",
    "import pandas as pd\n",
    "import numpy as np\n",
    "\n",
    "import csv"
   ]
  },
  {
   "cell_type": "code",
   "execution_count": 4,
   "metadata": {
    "slideshow": {
     "slide_type": "slide"
    }
   },
   "outputs": [],
   "source": [
    "# %%timeit\n",
    "# last timing was: 1.91 s ± 95.2 ms per loop (mean ± std. dev. of 7 runs, 1 loop each)\n",
    "\n",
    "txt_file = \"2017-2018season.txt\"\n",
    "season_arrays = []\n",
    "# # turns data into a 2d array called season_arrays which will be the\n",
    "# # raw data that we are trying to process. \n",
    "def num(s):\n",
    "    try:\n",
    "        return int(s)\n",
    "    except ValueError:\n",
    "        return float(s)\n",
    "    \n",
    "with open(txt_file, newline='') as season_csv:\n",
    "    reader = csv.reader(season_csv, delimiter=' ', quotechar='|')\n",
    "    for rows in reader:\n",
    "        for item in rows:\n",
    "            row = item.split(',')\n",
    "            #numerating away/home\n",
    "            if row[3] == 'Away':\n",
    "                row[3] = 0\n",
    "            elif row[3] == 'Home':\n",
    "                row[3] = 1\n",
    "        if row in season_arrays:\n",
    "            continue\n",
    "        else:\n",
    "            season_arrays.append(row)\n",
    "# print(season_arrays)\n",
    "# categories of season_arrays\n",
    "categories = ['game_date', 'home_team', 'enemy_team', 'home/away', 'outcome', 'loss', 'over_time', 'points', 'goals_for',\n",
    "              'goals_against', 'shots_for', 'shots_against', 'power_play_goals_for', 'power_play_opportunities', \n",
    "              'power_play_percent','power_play_goals_against', 'penalty_kill_percent', 'faceoff_wins', 'faceoff_losses', \n",
    "              'faceoff_win_pct']\n",
    "\n",
    "#items from each line of season_arrays for append new array\n",
    "nessesary_items = ['home_team', 'outcome', 'home/away','over_time', 'goals_for', 'shots_for', 'goals_against', 'shots_against', 'power_play_goals_for',\n",
    "                   'power_play_opportunities', 'power_play_percent', 'power_play_goals_against', 'penalty_kill_percent',\n",
    "                   'faceoff_win_pct']\n",
    "\n",
    "\n",
    "# takes two arrays and differentiates each value at each index to form new list \n",
    "def differentiate(list1, list2):\n",
    "    new = []\n",
    "    if len(list1) == len(list2):\n",
    "        if (isinstance(num(list1[0]), float)):\n",
    "            for i,j in enumerate(list1):\n",
    "                new.append(round(float(list2[i]) - float(j), 3))\n",
    "        else:\n",
    "            for i,j in enumerate(list1):\n",
    "                new.append(num(list2[i]) - num(j))\n",
    "    else:\n",
    "        print(f\"------List lengths do not match-----\\n List 1 length: {len(list1)} \\n list 2 length: {len(list2)}\")\n",
    "    return new\n",
    "\n",
    "#appending new array, later have to add  , 'PPvsPK', 'PPGvsPPGA', 'faceoff_WvsL'\n",
    "# print(season_arrays)\n",
    "new_season_array = []\n",
    "for i, e in enumerate(season_arrays):\n",
    "    for j, e in enumerate(season_arrays):\n",
    "        if season_arrays[i][0] == season_arrays[j][0] and season_arrays[i][1]==season_arrays[j][2]:\n",
    "            string_one = []\n",
    "            string_two = []\n",
    "            for elem in nessesary_items:\n",
    "                string_one.append(season_arrays[i][categories.index(elem)])\n",
    "                string_two.append(season_arrays[j][categories.index(elem)])\n",
    "                season_arrays[i][categories.index(elem)] = 0\n",
    "                season_arrays[j][categories.index(elem)] = 0\n",
    "            new_season_array.append(string_one+string_two)  \n",
    "            \n",
    "#heads for dataframe            \n",
    "df_names = ['home_team','home_home/away','home_outcome','home_overtime','home_goals_for','home_shots_for','home_goals_against','home_shots_against','home_power_play_goals_for', 'home_power_play_opportunities', \n",
    "                       'home_power_play_percent','home_power_play_goals_against','home_penalty_kill_percent', \n",
    "                       'home_faceoff_win_pct','away_team','away_home/away','away_outcome','away_overtime', 'away_goals_for', 'away_shots_for', \n",
    "                       'away_goals_against','away_shots_against','away_power_play_goals_for', \n",
    "                       'away_power_play_opportunities','away_power_play_percent','away_power_play_goals_against', \n",
    "                       'away_penalty_kill_percent','away_faceoff_win_pct']"
   ]
  },
  {
   "cell_type": "code",
   "execution_count": 9,
   "metadata": {},
   "outputs": [],
   "source": [
    "# creating dataframe\n",
    "season_df = pd.DataFrame(new_season_array, columns = df_names)\n",
    "# adding differentials\n",
    "# home diffs\n",
    "season_df['PPvsPK'] = differentiate(season_df['home_power_play_percent'],season_df['home_penalty_kill_percent'])\n",
    "season_df['PPGvsPPGA'] =  differentiate(season_df['home_power_play_goals_for'],season_df['home_power_play_goals_against'])\n",
    "\n",
    "# season_df.head()\n",
    "season_df.to_pickle(\"./season_df.pkl\",'infer',-1)\n"
   ]
  },
  {
   "cell_type": "code",
   "execution_count": 17,
   "metadata": {},
   "outputs": [],
   "source": [
    "from pandas import read_csv\n",
    "from matplotlib import pyplot\n",
    "# # load dataset\n",
    "# dataset = season_df\n",
    "# values = dataset.values\n",
    "# # specify columns to plot\n",
    "# groups = [1, 2, 3, 5, 6, 7, 8, 9, 10, 11, 12, 13, 14, 15, 16, 17, 18, 19, 20, 21, 22]\n",
    "# i = 1\n",
    "# # plot each column\n",
    "# pyplot.figure()\n",
    "# for group in groups:\n",
    "# \tpyplot.subplot(len(groups), 1, i)\n",
    "# \tpyplot.plot(values[:, group])\n",
    "# \tpyplot.title(dataset.columns[group], y=2, loc='right')\n",
    "# \ti += 1\n",
    "# # pyplot.autoscale(enable=True, axis='both', tight=None)\n",
    "# pyplot.savefig('nigggggs.png', bbox_inches='tight')\n",
    "# pyplot.show()\n",
    "\n",
    "# season_df.groupby('home_away').plot(kind='bar', x='game_date')\n",
    "# pyplot.show()\n",
    "# season_df.plot(kind='bar', x='game_date')"
   ]
  },
  {
   "cell_type": "code",
   "execution_count": 10,
   "metadata": {},
   "outputs": [],
   "source": [
    "## balance, scale, and create training data (~80%)\n",
    "## normalize the batches\n",
    "# def normalize_with_moments(x, axes=[0, 1], epsilon=1e-8):\n",
    "#     mean, variance = tf.nn.moments(x, axes=axes)\n",
    "#     x_normed = (x - mean) / tf.sqrt(variance + epsilon) # epsilon to avoid dividing by zero\n",
    "#     return x_normed\n",
    "\n",
    "# def parse_example(line_batch):\n",
    "#     # ...\n",
    "#     features = tf.transpose(features)\n",
    "#     features = normalize_with_moments(features)\n",
    "#     # ...\n",
    "# also create out of sampple data (~20%)"
   ]
  },
  {
   "cell_type": "code",
   "execution_count": 3,
   "metadata": {
    "slideshow": {
     "slide_type": "notes"
    }
   },
   "outputs": [],
   "source": [
    "# keras data example\n",
    "# 98u7\n",
    "# mnist = tf.keras.datasets.mnist\n",
    "# (x_train, y_train),(x_test, y_test) = mnist.load_data()\n",
    "\n",
    "# x_train = tf.keras.utils.normalize(x_train, axis=1)\n",
    "# test = tf.keras.utils.normalize(x_test, axis=1)\n",
    "# plt.imshow(x_train[0],cmap=plt.cm.binary)\n",
    "# plt.show()"
   ]
  },
  {
   "cell_type": "code",
   "execution_count": 11,
   "metadata": {},
   "outputs": [],
   "source": [
    "# input nodes that take 2x sets of data (one game per node) by format of out of sample data"
   ]
  },
  {
   "cell_type": "code",
   "execution_count": 12,
   "metadata": {},
   "outputs": [],
   "source": [
    "#  train model \n",
    "# careful of the input data overlapping training data "
   ]
  }
 ],
 "metadata": {
  "celltoolbar": "Slideshow",
  "kernelspec": {
   "display_name": "Python 3",
   "language": "python",
   "name": "python3"
  },
  "language_info": {
   "codemirror_mode": {
    "name": "ipython",
    "version": 3
   },
   "file_extension": ".py",
   "mimetype": "text/x-python",
   "name": "python",
   "nbconvert_exporter": "python",
   "pygments_lexer": "ipython3",
   "version": "3.6.7"
  }
 },
 "nbformat": 4,
 "nbformat_minor": 2
}
