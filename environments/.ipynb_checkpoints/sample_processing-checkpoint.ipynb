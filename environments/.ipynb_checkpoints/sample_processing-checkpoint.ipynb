{
 "cells": [
  {
   "cell_type": "code",
   "execution_count": 16,
   "metadata": {
    "slideshow": {
     "slide_type": "slide"
    }
   },
   "outputs": [],
   "source": [
    "import keras as keras\n",
    "import tensorflow as tf\n",
    "import matplotlib\n",
    "\n",
    "# from matplotlib import style\n",
    "import pandas as pd\n",
    "import numpy as np\n",
    "\n",
    "import csv"
   ]
  },
  {
   "cell_type": "code",
   "execution_count": 17,
   "metadata": {
    "slideshow": {
     "slide_type": "notes"
    }
   },
   "outputs": [],
   "source": [
    "# keras data example\n",
    "# 98u7\n",
    "# mnist = tf.keras.datasets.mnist\n",
    "# (x_train, y_train),(x_test, y_test) = mnist.load_data()\n",
    "\n",
    "# x_train = tf.keras.utils.normalize(x_train, axis=1)\n",
    "# test = tf.keras.utils.normalize(x_test, axis=1)\n",
    "# plt.imshow(x_train[0],cmap=plt.cm.binary)\n",
    "# plt.show()"
   ]
  },
  {
   "cell_type": "code",
   "execution_count": 18,
   "metadata": {
    "slideshow": {
     "slide_type": "slide"
    }
   },
   "outputs": [],
   "source": [
    "txt_file = \"2017-2018season.txt\"\n",
    "season_arrays = []\n",
    "# # turns data into a 2d array called season_arrays which will be the\n",
    "# # raw data that we are trying to process. \n",
    "with open(txt_file, newline='') as season_csv:\n",
    "    reader = csv.reader(season_csv, delimiter=' ', quotechar='|')\n",
    "    for rows in reader:\n",
    "        for item in rows:\n",
    "            row = item.split(',')\n",
    "            #numerating away/home\n",
    "            if row[3] == 'Away':\n",
    "                row[3] = 0\n",
    "            elif row[3] == 'Home':\n",
    "                row[3] = 1\n",
    "        if row in season_arrays:\n",
    "            continue\n",
    "        else:\n",
    "            season_arrays.append(row)\n",
    "\n",
    "# categories of season_arrays\n",
    "categories = ['game_date', 'home_team', 'enemy_team', 'home_away', 'win', 'loss', 'over_time', 'points', 'goals_for',\n",
    "              'goals_against', 'shots_for', 'shots_against', 'power_play_goals_for', 'power_play_opportunities', \n",
    "              'power_play_percent','power_play_goals_against', 'penalty_kill_percent', 'faceoff_wins', 'faceoff_losses', \n",
    "              'faceoff_win_pct']\n",
    "\n",
    "#items from each line of season_arrays for append new array\n",
    "# added a 'win' to see how it depends of 'PPvsPK' and 'PPGvsPPGA' on plot\n",
    "nessesary_items = ['home_team', 'win', 'over_time', 'goals_for', 'shots_for', 'goals_against', 'shots_against', 'power_play_goals_for',\n",
    "                   'power_play_opportunities', 'power_play_percent', 'power_play_goals_against', 'penalty_kill_percent',\n",
    "                   'faceoff_win_pct']\n",
    "def num(s):\n",
    "    try:\n",
    "        return int(s)\n",
    "    except ValueError:\n",
    "        return float(s)\n",
    "\n",
    "# takes two arrays and differentiates each value at each index to form new list \n",
    "def differentiate(list1, list2):\n",
    "    new = []\n",
    "    if len(list1) == len(list2):\n",
    "        if (isinstance(num(list1[0]), float)):\n",
    "            for i,j in enumerate(list1):\n",
    "                new.append(round(float(list2[i]) - float(j), 3))\n",
    "        else:\n",
    "            for i,j in enumerate(list1):\n",
    "                new.append(num(list2[i]) - num(j))\n",
    "    else:\n",
    "        print(f\"------List lengths do not match-----\\n List 1 length: {len(list1)} \\n list 2 length: {len(list2)}\")\n",
    "    return new\n",
    "\n",
    "#appending new array, later have to add  , 'PPvsPK', 'PPGvsPPGA', 'faceoff_WvsL'\n",
    "new_season_array = []\n",
    "for i, e in enumerate(season_arrays):\n",
    "    for j, e in enumerate(season_arrays):\n",
    "        if season_arrays[i][0] == season_arrays[j][0] and season_arrays[i][1]==season_arrays[j][2]:\n",
    "            string_one = []\n",
    "            string_two = []\n",
    "            for elem in nessesary_items:\n",
    "                string_one.append(season_arrays[i][categories.index(elem)])\n",
    "                string_two.append(season_arrays[j][categories.index(elem)])\n",
    "                season_arrays[i][categories.index(elem)] = 0\n",
    "                season_arrays[j][categories.index(elem)] = 0\n",
    "            new_season_array.append(string_one+string_two)            \n",
    "#heads for dataframe            \n",
    "df_names = ['home_team', 'home_win', 'home_overtime', 'home_goals_for', 'home_shots_for', 'home_goals_against', \n",
    "                       'home_shots_against', 'home_power_play_goals_for', 'home_power_play_opportunities', \n",
    "                       'home_power_play_percent', 'home_power_play_goals_against', 'home_penalty_kill_percent', \n",
    "                       'home_faceoff_win_pct', 'away_team', 'away_win', 'away_overtime', 'away_goals_for', 'away_shots_for', \n",
    "                       'away_goals_against', 'away_shots_against', 'away_power_play_goals_for', \n",
    "                       'away_power_play_opportunities', 'away_power_play_percent', 'away_power_play_goals_against', \n",
    "                       'away_penalty_kill_percent', 'away_faceoff_win_pct']"
   ]
  },
  {
   "cell_type": "code",
   "execution_count": 19,
   "metadata": {},
   "outputs": [],
   "source": [
    "# creating dataframe\n",
    "season_df = pd.DataFrame(new_season_array, columns = df_names)\n",
    "# adding differentials\n",
    "# home diffs\n",
    "season_df['PPvsPK'] = differentiate(season_df['home_power_play_percent'],season_df['home_penalty_kill_percent'])\n",
    "season_df['PPGvsPPGA'] =  differentiate(season_df['home_power_play_goals_for'],season_df['home_power_play_goals_against'])\n"
   ]
  },
  {
   "cell_type": "code",
   "execution_count": 20,
   "metadata": {},
   "outputs": [],
   "source": [
    "teams_dict = {'AFM': 1,'ANA': 2,'ARI': 3,'ATL': 4,'BOS': 5,'BRK': 6,'BUF': 7,'CAR': 8,'CGS': 9,'CGY': 10,'CHI': 11,\n",
    "              'CBJ': 12,'CLE': 13,'CLR': 14,'COL': 15,'DAL': 16,'DFL': 17,'DCG': 18,'DET': 19,'EDM': 20,'FLA': 21,\n",
    "              'HAM': 22,'HFD': 23,'KCS': 24,'LAK': 25,'MIN': 26,'MMR': 27,'MNS': 28,'MTL': 29,'MWN': 30,'NSH': 31,\n",
    "              'NJD': 32,'NYA': 33,'NYI': 34,'NYR': 35,'OAK': 36,'OTT': 37,'PHI': 38,'PHX': 39,'PIR': 40,'PIT': 41,\n",
    "              'QUA': 42,'QUE': 43,'QBD': 44,'SJS': 45,'SLE': 46,'STL': 47,'TAN': 48,'TBL': 49,'TOR': 50,'TSP': 51,\n",
    "              'VAN': 52,'VGK': 53,'WPG': 54,'WSH': 55}\n",
    "season_df['home_team'] = season_df['home_team'].map(teams_dict)\n",
    "season_df['away_team'] = season_df['away_team'].map(teams_dict)\n",
    "season_df = season_df.apply(pd.to_numeric)"
   ]
  },
  {
   "cell_type": "code",
   "execution_count": null,
   "metadata": {},
   "outputs": [],
   "source": []
  }
 ],
 "metadata": {
  "celltoolbar": "Slideshow",
  "kernelspec": {
   "display_name": "Python 3",
   "language": "python",
   "name": "python3"
  },
  "language_info": {
   "codemirror_mode": {
    "name": "ipython",
    "version": 3
   },
   "file_extension": ".py",
   "mimetype": "text/x-python",
   "name": "python",
   "nbconvert_exporter": "python",
   "pygments_lexer": "ipython3",
   "version": "3.6.7"
  }
 },
 "nbformat": 4,
 "nbformat_minor": 2
}
