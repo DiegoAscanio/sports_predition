{
 "cells": [
  {
   "cell_type": "code",
   "execution_count": 1,
   "metadata": {
    "slideshow": {
     "slide_type": "slide"
    }
   },
   "outputs": [],
   "source": [
    "import tensorflow.keras as keras\n",
    "import tensorflow as tf\n",
    "import matplotlib\n",
    "\n",
    "# from matplotlib import style\n",
    "import pandas as pd\n",
    "import numpy as np\n",
    "\n",
    "import csv"
   ]
  },
  {
   "cell_type": "code",
   "execution_count": 15,
   "metadata": {
    "slideshow": {
     "slide_type": "notes"
    }
   },
   "outputs": [],
   "source": [
    "# keras data example\n",
    "# 98u7\n",
    "# mnist = tf.keras.datasets.mnist\n",
    "# (x_train, y_train),(x_test, y_test) = mnist.load_data()\n",
    "\n",
    "# x_train = tf.keras.utils.normalize(x_train, axis=1)\n",
    "# test = tf.keras.utils.normalize(x_test, axis=1)\n",
    "# plt.imshow(x_train[0],cmap=plt.cm.binary)\n",
    "# plt.show()"
   ]
  },
  {
   "cell_type": "code",
   "execution_count": 2,
   "metadata": {
    "slideshow": {
     "slide_type": "slide"
    }
   },
   "outputs": [],
   "source": [
    "# opens the data and turns it into CSV file\n",
    "txt_file = \"2017-2018season.txt\"\n",
    "csv_file = \"2017-2018season.csv\"\n",
    "in_txt = csv.reader(open(txt_file, \"r\"), delimiter = ',')\n",
    "season_csv = csv.writer(open(csv_file, 'w'))\n",
    "season_csv.writerows(in_txt)\n",
    "\n",
    "season_arrays = []\n",
    "\n",
    "# turns data into a 2d array called season_arrays which will be the\n",
    "# raw data that we are trying to process. \n",
    "with open('2017-2018season.csv', newline='') as season_csv:\n",
    "    reader = csv.reader(season_csv, delimiter=' ', quotechar='|')\n",
    "    for rows in reader:\n",
    "        for item in rows:\n",
    "            row = item.split(',')\n",
    "            #numerating away/home\n",
    "            if row[3] == 'Away':\n",
    "                row[3] = 0\n",
    "            elif row[3] == 'Home':\n",
    "                row[3] = 1\n",
    "        if row in season_arrays:\n",
    "            continue\n",
    "        else:\n",
    "            season_arrays.append(row)\n",
    "            \n",
    "# had an idea to split the home and away into separate arrays and combining them later, but \n",
    "# decided not to use them. they are just here in case I find a use for them but you can ignore for now\n",
    "# unless of course you can think of a simple way to use them\n",
    "home = []\n",
    "away = []\n",
    "for row in season_arrays:\n",
    "    if row[3] == 1:\n",
    "        home.append(row)\n",
    "    else: away.append(row)\n",
    "        \n",
    "# defining categories and a dict for turning all of the team names into ints (just more processing strings to nums)\n",
    "home_team_to_predict = \"DET\"\n",
    "away_team_to_predict = \"MIN\"\n",
    "\n",
    "categories = ['game_date', 'home_team', 'enemy_team', 'home_away', 'win', 'loss', 'over_time', 'points', 'goals_for',\n",
    "              'goals_against', 'shots_for', 'shots_against', 'power_play_goals_for', 'power_play_opportunities', \n",
    "              'power_play_percent','power_play_goals_against', 'penalty_kill_percent', 'faceoff_wins', 'faceoff_losses', \n",
    "              'faceoff_win_pct']\n",
    "\n",
    "teams_dict = {'AFM': 1,'ANA': 2,'ARI': 3,'ATL': 4,'BOS': 5,'BRK': 6,'BUF': 7,'CAR': 8,'CGS': 9,'CGY': 10,'CHI': 11,\n",
    "              'CBJ': 12,'CLE': 13,'CLR': 14,'COL': 15,'DAL': 16,'DFL': 17,'DCG': 18,'DET': 19,'EDM': 20,'FLA': 21,\n",
    "              'HAM': 22,'HFD': 23,'KCS': 24,'LAK': 25,'MIN': 26,'MMR': 27,'MNS': 28,'MTL': 29,'MWN': 30,'NSH': 31,\n",
    "              'NJD': 32,'NYA': 33,'NYI': 34,'NYR': 35,'OAK': 36,'OTT': 37,'PHI': 38,'PHX': 39,'PIR': 40,'PIT': 41,\n",
    "              'QUA': 42,'QUE': 43,'QBD': 44,'SJS': 45,'SLE': 46,'STL': 47,'TAN': 48,'TBL': 49,'TOR': 50,'TSP': 51,\n",
    "              'VAN': 52,'VGK': 53,'WPG': 54,'WSH': 55}"
   ]
  },
  {
   "cell_type": "code",
   "execution_count": 3,
   "metadata": {},
   "outputs": [
    {
     "name": "stdout",
     "output_type": "stream",
     "text": [
      "   game_date  home_team  enemy_team  home_away win loss over_time points  \\\n",
      "0          0         38          45          0   1    0         0      2   \n",
      "1          0         50          54          0   1    0         0      2   \n",
      "2          0         20          10          1   1    0         0      2   \n",
      "3          0         47          41          0   1    0         0      2   \n",
      "4          0         41          47          1   0    0         1      1   \n",
      "\n",
      "  goals_for goals_against     ...      power_play_opportunities  \\\n",
      "0         5             3     ...                             5   \n",
      "1         7             2     ...                             4   \n",
      "2         3             0     ...                             2   \n",
      "3         5             4     ...                             4   \n",
      "4         4             5     ...                             5   \n",
      "\n",
      "  power_play_percent power_play_goals_against penalty_kill_percent  \\\n",
      "0               60.0                        2                 66.7   \n",
      "1               50.0                        0                100.0   \n",
      "2                0.0                        0                100.0   \n",
      "3               25.0                        1                 80.0   \n",
      "4               20.0                        1                 75.0   \n",
      "\n",
      "  faceoff_wins faceoff_losses faceoff_win_pct PPvsPK PPGvsPPGA faceoff_WvsL  \n",
      "0           30             28            51.7    6.7        -1           -2  \n",
      "1           35             28            55.5   50.0        -2           -7  \n",
      "2           34             29            54.0  100.0         0           -5  \n",
      "3           28             40            41.2   55.0         0           12  \n",
      "4           40             28            58.8   55.0         0          -12  \n",
      "\n",
      "[5 rows x 23 columns]\n"
     ]
    }
   ],
   "source": [
    "# creation of the pandas dataframe \n",
    "season_df = pd.DataFrame(season_arrays, columns=categories)\n",
    "game_dates = season_df['game_date']\n",
    "unique_dates = season_df['game_date'].unique()\n",
    "\n",
    "# turns dates into values (i.e. 1,2,3,4) so that the sequentiality is clear to the neural net\n",
    "# I could be wrong in doing this, so just be wary of that. \n",
    "def dates_to_val(array, dates_array):\n",
    "    array = array.tolist()\n",
    "    dates_array = dates_array.tolist()\n",
    "    new_dates = []\n",
    "    for i in enumerate(array):\n",
    "        for j in enumerate(dates_array):\n",
    "            if i[1] == j[1]:\n",
    "                new_dates.append(dates_array.index(j[1]))\n",
    "    return new_dates\n",
    "\n",
    "# maping data to the DF\n",
    "new_dates = dates_to_val(game_dates,unique_dates)\n",
    "season_df['home_team'] = season_df['home_team'].map(teams_dict)\n",
    "season_df['enemy_team'] = season_df['enemy_team'].map(teams_dict)\n",
    "season_df['game_date'] = new_dates\n",
    "\n",
    "# categories that I would like to have differentiated (not all of them ended up being used but this is still here as reference point)\n",
    "differential_categories = ['PPvsPK', 'PPGvsPPGA', 'faceoff_WINSvsLOSS', 'faceoff_LOSSvsLWINS', 'penalty_kill_diff']\n",
    "\n",
    "# turning some of the info into variables for ease of use \n",
    "pp = season_df['power_play_percent']\n",
    "pk = season_df['penalty_kill_percent']\n",
    "ppg = season_df['power_play_goals_for']\n",
    "ppga = season_df['power_play_goals_against']\n",
    "foW = season_df['faceoff_wins']\n",
    "foL = season_df['faceoff_losses']\n",
    "\n",
    "# turns text into int or floats respectively\n",
    "def num(s):\n",
    "    try:\n",
    "        return int(s)\n",
    "    except ValueError:\n",
    "        return float(s)\n",
    "\n",
    "# finds the difference between two pieces of data. \n",
    "# only a couple of statistics can be differentiated using this method and that is all we will be doing for now.\n",
    "def differentiate(list1, list2):\n",
    "    new = []\n",
    "    if len(list1) == len(list2):\n",
    "        if (isinstance(num(list1[0]), float)):\n",
    "            for i,j in enumerate(list1):\n",
    "                new.append(round(float(list2[i]) - float(j), 3))\n",
    "        else:\n",
    "            for i,j in enumerate(list1):\n",
    "                new.append(num(list2[i]) - num(j))\n",
    "    else:\n",
    "        print(f\"------List lengths do not match-----\\n List 1 length: {len(list1)} \\n list 2 length: {len(list2)}\")\n",
    "    return np.array(new)\n",
    "\n",
    "# one dimensional differentials \n",
    "# differentials_list = differentiate(pp,pk), differentiate(ppg,ppga), differentiate(foW,foL)\n",
    "\n",
    "# two dimensional differentials - will add later but I think we have enough data to begin actual pre-processing for NN\n",
    "# season_df['faceoff_LOSSvsLWINS']\n",
    "# season_df['penalty_kill_diff']\n",
    "\n",
    "# creates differential statistics and adds them to the season_df \n",
    "season_df['PPvsPK'] = differentiate(pp,pk)\n",
    "season_df['PPGvsPPGA'] =  differentiate(ppg,ppga)\n",
    "season_df['faceoff_WvsL'] = differentiate(foW,foL)\n",
    "\n",
    "# what we have here is the full coallition of numerical data all put together into one databse. \n",
    "# this is what we are working from\n",
    "print(season_df.head())"
   ]
  },
  {
   "cell_type": "code",
   "execution_count": 4,
   "metadata": {},
   "outputs": [
    {
     "name": "stdout",
     "output_type": "stream",
     "text": [
      "<class 'pandas.core.frame.DataFrame'> <class 'int'> <class 'int'> <class 'int'>\n"
     ]
    },
    {
     "data": {
      "text/plain": [
       "list"
      ]
     },
     "execution_count": 4,
     "metadata": {},
     "output_type": "execute_result"
    }
   ],
   "source": [
    "# this is where things get messy. this is where I have attempted to combine arrays for one game into one single array\n",
    "\n",
    "# finds the data for one whole game and returns the info in one array (not yet formatted properly)\n",
    "def get_pair(df,date,home,away):\n",
    "    print(type(df),type(date),type(home),type(away))\n",
    "    home_p = season_df.loc[season_df[\"home_team\"] == home].loc[season_df[\"game_date\"] == date]\n",
    "    enemy_p = season_df.loc[season_df[\"home_team\"] == away].loc[season_df[\"game_date\"] == date]\n",
    "    return [home_p, enemy_p]\n",
    "\n",
    "# season_df.loc[season_df[\"home_team\"] == 47].loc[season_df[\"game_date\"] == 0]\n",
    "# type(season_df.loc[season_df[\"home_team\"] == 41].loc[season_df[\"game_date\"] == 0])\n",
    "\n",
    "type(get_pair(season_df,0,47,41))\n",
    "\n",
    "# def final_sort(df):\n",
    "    \n",
    "    \n",
    "\n",
    "# loop through\n",
    "#  if names and name reciprocal and date match\n",
    "#   calc differentials \n",
    "#    pair them and push to array for that date\n",
    "#     save arrays as df \n",
    "\n",
    "\n",
    "\n",
    "\n",
    "\n",
    "# print(season_df)   \n",
    "# differentials_df = pd.DataFrame(differentials, columns=differentials)\n"
   ]
  },
  {
   "cell_type": "code",
   "execution_count": 10,
   "metadata": {},
   "outputs": [],
   "source": [
    "from pandas import read_csv\n",
    "from matplotlib import pyplot\n",
    "# # load dataset\n",
    "# dataset = season_df\n",
    "# values = dataset.values\n",
    "# # specify columns to plot\n",
    "# groups = [1, 2, 3, 5, 6, 7, 8, 9, 10, 11, 12, 13, 14, 15, 16, 17, 18, 19, 20, 21, 22]\n",
    "# i = 1\n",
    "# # plot each column\n",
    "# pyplot.figure()\n",
    "# for group in groups:\n",
    "# \tpyplot.subplot(len(groups), 1, i)\n",
    "# \tpyplot.plot(values[:, group])\n",
    "# \tpyplot.title(dataset.columns[group], y=2, loc='right')\n",
    "# \ti += 1\n",
    "# # pyplot.autoscale(enable=True, axis='both', tight=None)\n",
    "# pyplot.savefig('nigggggs.png', bbox_inches='tight')\n",
    "# pyplot.show()\n",
    "\n",
    "# season_df.groupby('home_away').plot(kind='bar', x='game_date')\n",
    "# pyplot.show()\n",
    "# season_df.plot(kind='bar', x='game_date')"
   ]
  },
  {
   "cell_type": "code",
   "execution_count": null,
   "metadata": {},
   "outputs": [],
   "source": [
    "##### create data splitter that can pul sequenital past x games on two different teams \n",
    "\n",
    "\n",
    "\n",
    "## combine data into columns by game \n",
    "# detect two lines of same game, determine if game has been done already, if not combine and write \n",
    "# for row in df.iterrows():\n",
    "#     buffer_df[0]\n",
    "# print(season_arrays)"
   ]
  },
  {
   "cell_type": "code",
   "execution_count": null,
   "metadata": {},
   "outputs": [],
   "source": [
    "## balance, scale, and create training data (~80%)\n",
    "## normalize the batches\n",
    "# def normalize_with_moments(x, axes=[0, 1], epsilon=1e-8):\n",
    "#     mean, variance = tf.nn.moments(x, axes=axes)\n",
    "#     x_normed = (x - mean) / tf.sqrt(variance + epsilon) # epsilon to avoid dividing by zero\n",
    "#     return x_normed\n",
    "\n",
    "# def parse_example(line_batch):\n",
    "#     # ...\n",
    "#     features = tf.transpose(features)\n",
    "#     features = normalize_with_moments(features)\n",
    "#     # ...\n",
    "# also create out of sampple data (~20%)"
   ]
  },
  {
   "cell_type": "code",
   "execution_count": 10,
   "metadata": {},
   "outputs": [],
   "source": [
    "# input nodes that take 2x sets of data (one game per node) by format of out of sample data"
   ]
  },
  {
   "cell_type": "code",
   "execution_count": 17,
   "metadata": {},
   "outputs": [],
   "source": [
    "#  train model \n",
    "# careful of the input data overlapping training data "
   ]
  }
 ],
 "metadata": {
  "celltoolbar": "Slideshow",
  "kernelspec": {
   "display_name": "Python 3",
   "language": "python",
   "name": "python3"
  },
  "language_info": {
   "codemirror_mode": {
    "name": "ipython",
    "version": 3
   },
   "file_extension": ".py",
   "mimetype": "text/x-python",
   "name": "python",
   "nbconvert_exporter": "python",
   "pygments_lexer": "ipython3",
   "version": "3.6.7"
  }
 },
 "nbformat": 4,
 "nbformat_minor": 2
}
